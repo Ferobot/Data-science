{
 "cells": [
  {
   "cell_type": "markdown",
   "metadata": {},
   "source": [
    "##### Segundo mini proyecto regression logistica \n"
   ]
  },
  {
   "cell_type": "code",
   "execution_count": 68,
   "metadata": {},
   "outputs": [],
   "source": [
    "#modulos \n",
    "from sklearn.linear_model import LogisticRegression \n",
    "from sklearn.model_selection import train_test_split\n",
    "from sklearn.metrics import accuracy_score\n",
    "from sklearn.preprocessing import StandardScaler\n",
    "from sklearn.metrics import confusion_matrix\n",
    "from sklearn.metrics import ConfusionMatrixDisplay\n",
    "\n",
    "import pandas as pd \n",
    "import numpy as np\n",
    "import matplotlib.pyplot as plt\n"
   ]
  },
  {
   "cell_type": "code",
   "execution_count": 69,
   "metadata": {},
   "outputs": [
    {
     "data": {
      "text/html": [
       "<div>\n",
       "<style scoped>\n",
       "    .dataframe tbody tr th:only-of-type {\n",
       "        vertical-align: middle;\n",
       "    }\n",
       "\n",
       "    .dataframe tbody tr th {\n",
       "        vertical-align: top;\n",
       "    }\n",
       "\n",
       "    .dataframe thead th {\n",
       "        text-align: right;\n",
       "    }\n",
       "</style>\n",
       "<table border=\"1\" class=\"dataframe\">\n",
       "  <thead>\n",
       "    <tr style=\"text-align: right;\">\n",
       "      <th></th>\n",
       "      <th>male</th>\n",
       "      <th>age</th>\n",
       "      <th>education</th>\n",
       "      <th>currentSmoker</th>\n",
       "      <th>cigsPerDay</th>\n",
       "      <th>BPMeds</th>\n",
       "      <th>prevalentStroke</th>\n",
       "      <th>prevalentHyp</th>\n",
       "      <th>diabetes</th>\n",
       "      <th>totChol</th>\n",
       "      <th>sysBP</th>\n",
       "      <th>diaBP</th>\n",
       "      <th>BMI</th>\n",
       "      <th>heartRate</th>\n",
       "      <th>glucose</th>\n",
       "      <th>TenYearCHD</th>\n",
       "    </tr>\n",
       "  </thead>\n",
       "  <tbody>\n",
       "    <tr>\n",
       "      <th>0</th>\n",
       "      <td>1</td>\n",
       "      <td>39</td>\n",
       "      <td>4.0</td>\n",
       "      <td>0</td>\n",
       "      <td>0.0</td>\n",
       "      <td>0.0</td>\n",
       "      <td>0</td>\n",
       "      <td>0</td>\n",
       "      <td>0</td>\n",
       "      <td>195.0</td>\n",
       "      <td>106.0</td>\n",
       "      <td>70.0</td>\n",
       "      <td>26.97</td>\n",
       "      <td>80.0</td>\n",
       "      <td>77.0</td>\n",
       "      <td>0</td>\n",
       "    </tr>\n",
       "    <tr>\n",
       "      <th>1</th>\n",
       "      <td>0</td>\n",
       "      <td>46</td>\n",
       "      <td>2.0</td>\n",
       "      <td>0</td>\n",
       "      <td>0.0</td>\n",
       "      <td>0.0</td>\n",
       "      <td>0</td>\n",
       "      <td>0</td>\n",
       "      <td>0</td>\n",
       "      <td>250.0</td>\n",
       "      <td>121.0</td>\n",
       "      <td>81.0</td>\n",
       "      <td>28.73</td>\n",
       "      <td>95.0</td>\n",
       "      <td>76.0</td>\n",
       "      <td>0</td>\n",
       "    </tr>\n",
       "    <tr>\n",
       "      <th>2</th>\n",
       "      <td>1</td>\n",
       "      <td>48</td>\n",
       "      <td>1.0</td>\n",
       "      <td>1</td>\n",
       "      <td>20.0</td>\n",
       "      <td>0.0</td>\n",
       "      <td>0</td>\n",
       "      <td>0</td>\n",
       "      <td>0</td>\n",
       "      <td>245.0</td>\n",
       "      <td>127.5</td>\n",
       "      <td>80.0</td>\n",
       "      <td>25.34</td>\n",
       "      <td>75.0</td>\n",
       "      <td>70.0</td>\n",
       "      <td>0</td>\n",
       "    </tr>\n",
       "    <tr>\n",
       "      <th>3</th>\n",
       "      <td>0</td>\n",
       "      <td>61</td>\n",
       "      <td>3.0</td>\n",
       "      <td>1</td>\n",
       "      <td>30.0</td>\n",
       "      <td>0.0</td>\n",
       "      <td>0</td>\n",
       "      <td>1</td>\n",
       "      <td>0</td>\n",
       "      <td>225.0</td>\n",
       "      <td>150.0</td>\n",
       "      <td>95.0</td>\n",
       "      <td>28.58</td>\n",
       "      <td>65.0</td>\n",
       "      <td>103.0</td>\n",
       "      <td>1</td>\n",
       "    </tr>\n",
       "    <tr>\n",
       "      <th>4</th>\n",
       "      <td>0</td>\n",
       "      <td>46</td>\n",
       "      <td>3.0</td>\n",
       "      <td>1</td>\n",
       "      <td>23.0</td>\n",
       "      <td>0.0</td>\n",
       "      <td>0</td>\n",
       "      <td>0</td>\n",
       "      <td>0</td>\n",
       "      <td>285.0</td>\n",
       "      <td>130.0</td>\n",
       "      <td>84.0</td>\n",
       "      <td>23.10</td>\n",
       "      <td>85.0</td>\n",
       "      <td>85.0</td>\n",
       "      <td>0</td>\n",
       "    </tr>\n",
       "  </tbody>\n",
       "</table>\n",
       "</div>"
      ],
      "text/plain": [
       "   male  age  education  currentSmoker  cigsPerDay  BPMeds  prevalentStroke  \\\n",
       "0     1   39        4.0              0         0.0     0.0                0   \n",
       "1     0   46        2.0              0         0.0     0.0                0   \n",
       "2     1   48        1.0              1        20.0     0.0                0   \n",
       "3     0   61        3.0              1        30.0     0.0                0   \n",
       "4     0   46        3.0              1        23.0     0.0                0   \n",
       "\n",
       "   prevalentHyp  diabetes  totChol  sysBP  diaBP    BMI  heartRate  glucose  \\\n",
       "0             0         0    195.0  106.0   70.0  26.97       80.0     77.0   \n",
       "1             0         0    250.0  121.0   81.0  28.73       95.0     76.0   \n",
       "2             0         0    245.0  127.5   80.0  25.34       75.0     70.0   \n",
       "3             1         0    225.0  150.0   95.0  28.58       65.0    103.0   \n",
       "4             0         0    285.0  130.0   84.0  23.10       85.0     85.0   \n",
       "\n",
       "   TenYearCHD  \n",
       "0           0  \n",
       "1           0  \n",
       "2           0  \n",
       "3           1  \n",
       "4           0  "
      ]
     },
     "execution_count": 69,
     "metadata": {},
     "output_type": "execute_result"
    }
   ],
   "source": [
    "df = pd.read_csv(\"archive\\\\framingham.csv\")\n",
    "df.head()"
   ]
  },
  {
   "cell_type": "code",
   "execution_count": 70,
   "metadata": {},
   "outputs": [
    {
     "name": "stdout",
     "output_type": "stream",
     "text": [
      "   male  age  currentSmoker  cigsPerDay  BPMeds  prevalentStroke  \\\n",
      "0     1   39              0         0.0     0.0                0   \n",
      "1     0   46              0         0.0     0.0                0   \n",
      "2     1   48              1        20.0     0.0                0   \n",
      "3     0   61              1        30.0     0.0                0   \n",
      "4     0   46              1        23.0     0.0                0   \n",
      "\n",
      "   prevalentHyp  diabetes  totChol  sysBP  diaBP    BMI  heartRate  glucose  \\\n",
      "0             0         0    195.0  106.0   70.0  26.97       80.0     77.0   \n",
      "1             0         0    250.0  121.0   81.0  28.73       95.0     76.0   \n",
      "2             0         0    245.0  127.5   80.0  25.34       75.0     70.0   \n",
      "3             1         0    225.0  150.0   95.0  28.58       65.0    103.0   \n",
      "4             0         0    285.0  130.0   84.0  23.10       85.0     85.0   \n",
      "\n",
      "   TenYearCHD  \n",
      "0           0  \n",
      "1           0  \n",
      "2           0  \n",
      "3           1  \n",
      "4           0  \n",
      "      male  age  currentSmoker  cigsPerDay  BPMeds  prevalentStroke  \\\n",
      "4233     1   50              1         1.0     0.0                0   \n",
      "4234     1   51              1        43.0     0.0                0   \n",
      "4235     0   48              1        20.0     0.0                0   \n",
      "4236     0   44              1        15.0     0.0                0   \n",
      "4237     0   52              0         0.0     0.0                0   \n",
      "\n",
      "      prevalentHyp  diabetes  totChol  sysBP  diaBP    BMI  heartRate  \\\n",
      "4233             1         0    313.0  179.0   92.0  25.97       66.0   \n",
      "4234             0         0    207.0  126.5   80.0  19.71       65.0   \n",
      "4235             0         0    248.0  131.0   72.0  22.00       84.0   \n",
      "4236             0         0    210.0  126.5   87.0  19.16       86.0   \n",
      "4237             0         0    269.0  133.5   83.0  21.47       80.0   \n",
      "\n",
      "      glucose  TenYearCHD  \n",
      "4233     86.0           1  \n",
      "4234     68.0           0  \n",
      "4235     86.0           0  \n",
      "4236     82.0           0  \n",
      "4237    107.0           0  \n"
     ]
    }
   ],
   "source": [
    "#print(df.isna().sum())\n",
    "df.drop(columns=\"education\",inplace=True) # eliminamos la columna education\n",
    "df['BPMeds'].fillna(0,inplace=True) # busca las filas donde su columna BPMeds sea NaN, reemplaza los valores nulos por un cero \n",
    "mean =round(df['glucose'].mean()) # calcula la media de la columna glucose \n",
    "df['glucose'].fillna(mean,inplace=True) # busca los valores nulos en la columna glucose y los remplaza por el valor promedio \n",
    "df=df.dropna() # elimina todas las filas que cuenten con algun elemento nulo \n",
    "#print(df.isna().sum())\n",
    "print(df.head())\n",
    "print(df.tail())"
   ]
  },
  {
   "cell_type": "code",
   "execution_count": 71,
   "metadata": {},
   "outputs": [
    {
     "name": "stdout",
     "output_type": "stream",
     "text": [
      "[[ 1.14466932 -1.23334277  1.02148683 ...  0.62145282  1.59252662\n",
      "  -0.12713725]\n",
      " [ 1.14466932  1.22137131 -0.97896514 ...  1.2047986  -1.0667361\n",
      "   0.17984804]\n",
      " [-0.87361475 -0.2982136   1.02148683 ... -0.49376705 -0.56812434\n",
      "  -0.3902675 ]\n",
      " ...\n",
      " [ 1.14466932 -0.76577819  1.02148683 ... -0.67269243 -0.06951258\n",
      "  -0.60954271]\n",
      " [-0.87361475 -1.23334277  1.02148683 ...  0.15820765  0.76150702\n",
      "   0.22370309]\n",
      " [-0.87361475  0.40313328 -0.97896514 ... -0.39817677 -1.64844982\n",
      "  -0.60954271]]\n"
     ]
    }
   ],
   "source": [
    "# inializacion de los datos \n",
    "y =np.array(df['TenYearCHD']) # definimos la columna TenYearCHD  como la variable dependiente\n",
    "df.drop(columns='TenYearCHD',inplace=True) # eliminamos esta columna del dataframe\n",
    "X = np.array(df) # definimos como las variables independientes a las columnas del dataframe \n",
    "X_scaled = StandardScaler().fit_transform(X) # escalar los valores de la variables independientes \n",
    "X_train, X_test, y_train, y_test =train_test_split(X_scaled, y, test_size=0.25) # dividir el dataframe en un grupo de prueba y otro de testeo\n",
    "print(X_train)"
   ]
  },
  {
   "cell_type": "code",
   "execution_count": 72,
   "metadata": {},
   "outputs": [
    {
     "data": {
      "text/plain": [
       "84.63768115942028"
      ]
     },
     "execution_count": 72,
     "metadata": {},
     "output_type": "execute_result"
    }
   ],
   "source": [
    "# crear el modelo\n",
    "model = LogisticRegression()\n",
    "# entrenar el modelo \n",
    "model.fit(X_train,y_train)\n",
    "# utilizarlo para predecir los valores de y_test\n",
    "y_pred = model.predict(X_test)\n",
    "accuracy_score(y_test,y_pred)*100\n"
   ]
  },
  {
   "cell_type": "code",
   "execution_count": 75,
   "metadata": {},
   "outputs": [
    {
     "data": {
      "text/plain": [
       "<Figure size 800x600 with 0 Axes>"
      ]
     },
     "metadata": {},
     "output_type": "display_data"
    },
    {
     "data": {
      "image/png": "[encoded data removed]",
      "text/plain": [
       "<Figure size 640x480 with 2 Axes>"
      ]
     },
     "metadata": {},
     "output_type": "display_data"
    }
   ],
   "source": [
    "# Matriz de Confusion  \n",
    "conf_matrix =confusion_matrix(y_test, y_pred) # Calculo de la matriz de confusión  \n",
    "disp=ConfusionMatrixDisplay(conf_matrix, display_labels =['0','1']) # definicion matriz de confusion \n",
    "\n",
    "# Grafica de la matriz de confusion \n",
    "plt.figure(figsize=(8,6)) \n",
    "disp.plot(cmap=plt.cm.Reds)\n",
    "plt.title(\"Confusion Matrix\")\n",
    "plt.show()"
   ]
  }
 ],
 "metadata": {
  "kernelspec": {
   "display_name": "Python 3",
   "language": "python",
   "name": "python3"
  },
  "language_info": {
   "codemirror_mode": {
    "name": "ipython",
    "version": 3
   },
   "file_extension": ".py",
   "mimetype": "text/x-python",
   "name": "python",
   "nbconvert_exporter": "python",
   "pygments_lexer": "ipython3",
   "version": "3.11.5"
  }
 },
 "nbformat": 4,
 "nbformat_minor": 2
}
